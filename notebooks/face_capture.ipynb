{
 "cells": [
  {
   "cell_type": "code",
   "execution_count": 2,
   "id": "ebb888b8-0f75-438e-aa5b-cb97b6bb0214",
   "metadata": {},
   "outputs": [],
   "source": [
    "import cv2\n",
    "import os \n",
    "import dlib"
   ]
  },
  {
   "cell_type": "code",
   "execution_count": 3,
   "id": "8fb91c34-0180-40b1-87c6-963d61ac6cde",
   "metadata": {},
   "outputs": [],
   "source": [
    "class FaceCapture:\n",
    "    def __init__(self, face_id, face_name, folder_path=\"data\"):\n",
    "        # Fixing the incorrect reference to folder_folder\n",
    "        parent_dir = os.path.dirname(os.getcwd())\n",
    "\n",
    "        self.folder_path = os.path.join(parent_dir, folder_path)   # Use folder_path instead of parent_folder\n",
    "        self.face_id = face_id\n",
    "        self.count = 0\n",
    "        self.face_name = face_name.replace(\" \", \"_\")\n",
    "        self.student_folder = os.path.join(self.folder_path, f\"{self.face_id}_{self.face_name}\")\n",
    "\n",
    "        # Create necessary folders\n",
    "        self.create_folder(self.folder_path)\n",
    "        self.create_folder(self.student_folder)\n",
    "\n",
    "        # Initialize dlib's face detector and landmark predictor\n",
    "        self.detector = dlib.get_frontal_face_detector()\n",
    "        self.predictor = dlib.shape_predictor(\"shape_predictor_68_face_landmarks.dat\")\n",
    "        \n",
    "        # Initialize the video capture\n",
    "        self.cap = cv2.VideoCapture(0)\n",
    "        if not self.cap.isOpened():\n",
    "            print(\"Error! Could not open camera\")\n",
    "\n",
    "    def create_folder(self, path):\n",
    "        if not os.path.exists(path):\n",
    "            os.makedirs(path)\n",
    "\n",
    "    def capture_faces(self, max_faces=150):\n",
    "        while True:\n",
    "            ret, frame = self.cap.read()\n",
    "            if not ret:\n",
    "                print(\"Failed to grab frame\")\n",
    "                break\n",
    "\n",
    "            gray = cv2.cvtColor(frame, cv2.COLOR_BGR2GRAY)\n",
    "            faces = self.detector(gray)\n",
    "\n",
    "            for face in faces:\n",
    "                x, y, w, h = face.left(), face.top(), face.width(), face.height()\n",
    "                face_image = frame[y:y+h, x:x+w]\n",
    "                self.count += 1\n",
    "\n",
    "                # Save the captured face image\n",
    "                cv2.imwrite(f\"{self.student_folder}/{self.face_id}_{self.face_name}_{self.count}.jpg\", face_image)\n",
    "\n",
    "                # Display the count and rectangle around the face\n",
    "                cv2.putText(frame, str(self.count), (x + w // 2, y + h - 10), cv2.FONT_HERSHEY_SIMPLEX, 1.5, (0, 0, 0), 2)\n",
    "                cv2.rectangle(frame, (x, y), (x + w, y + h), (255, 0, 255), 2)\n",
    "                cv2.imshow('Captured Image', frame)\n",
    "\n",
    "            # Break the loop after capturing 3 faces\n",
    "            if self.count >= max_faces:\n",
    "                break\n",
    "\n",
    "            # Exit if 'q' is pressed\n",
    "            if cv2.waitKey(1) & 0xFF == ord('q'):\n",
    "                break\n",
    "\n",
    "    def release_resources(self):\n",
    "        self.cap.release()\n",
    "        cv2.destroyAllWindows()\n",
    "        cv2.waitKey(1)\n"
   ]
  },
  {
   "cell_type": "code",
   "execution_count": 4,
   "id": "b7ad6421-d3c2-4391-92d7-abfb5b75a8d3",
   "metadata": {},
   "outputs": [
    {
     "name": "stdin",
     "output_type": "stream",
     "text": [
      "enter your id:  10\n",
      "enter your name:  Bibek Adhikari\n"
     ]
    }
   ],
   "source": [
    "# Initialize and capture faces\n",
    "face_capture = FaceCapture(\n",
    "    face_id=input('enter your id: '),\n",
    "    face_name=input('enter your name: '),\n",
    "    folder_path=\"data\"\n",
    ")\n",
    "\n",
    "face_capture.capture_faces()  \n",
    "face_capture.release_resources()  # Release camera"
   ]
  }
 ],
 "metadata": {
  "kernelspec": {
   "display_name": "Python [conda env:navigator-env]",
   "language": "python",
   "name": "conda-env-navigator-env-py"
  },
  "language_info": {
   "codemirror_mode": {
    "name": "ipython",
    "version": 3
   },
   "file_extension": ".py",
   "mimetype": "text/x-python",
   "name": "python",
   "nbconvert_exporter": "python",
   "pygments_lexer": "ipython3",
   "version": "3.10.16"
  }
 },
 "nbformat": 4,
 "nbformat_minor": 5
}
